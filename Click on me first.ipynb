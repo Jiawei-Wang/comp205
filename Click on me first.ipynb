{
 "cells": [
  {
   "cell_type": "markdown",
   "metadata": {},
   "source": [
    "# Welcome to COMP 205: Principles of Data Science in Python\n",
    "\n",
    "To get started, you need two things: \n",
    "1. Your Universal Tufts Login Name (UTLN) that you used to login here. \n",
    "2. A gmail account. This will be used to log you into our grading system. \n",
    "\n",
    "Please go get a gmail account if you do not have one already. Then proceed to run the next box. It will ask you to login to https://okpy.org, which will in turn ask you for your gmail account. That will be used to log you into gmail on the grading site, and a token will be generated. You should type that token in the box that will appear below. "
   ]
  },
  {
   "cell_type": "code",
   "execution_count": null,
   "metadata": {},
   "outputs": [],
   "source": [
    "# Don't change this cell; just run it using the run button to left. \n",
    "from client.api.notebook import Notebook\n",
    "ok = Notebook('Initialize.ok')\n",
    "ok.auth(inline=True, force=True)"
   ]
  },
  {
   "cell_type": "markdown",
   "metadata": {},
   "source": [
    "Once you do this -- only once -- your workspace on this site will be linked to your grading account on https://okpy.org. You can log into that account to see your exercise and assignment grades. \n",
    "\n",
    "Please note that you have to do this once per workspace that you are using for this course. If you prefer to work on your home machine or personal laptop, you'll need to download this notebook -- as well as `Initialize.ok` and the directory `tests`, and run the cell there as well. An alternative is to fetch the Git repository that contains this, which is at \n",
    "https://github.com/prof-couch/comp205.git\n"
   ]
  }
 ],
 "metadata": {
  "kernelspec": {
   "display_name": "Python 3",
   "language": "python",
   "name": "python3"
  },
  "language_info": {
   "codemirror_mode": {
    "name": "ipython",
    "version": 3
   },
   "file_extension": ".py",
   "mimetype": "text/x-python",
   "name": "python",
   "nbconvert_exporter": "python",
   "pygments_lexer": "ipython3",
   "version": "3.7.0"
  }
 },
 "nbformat": 4,
 "nbformat_minor": 2
}
