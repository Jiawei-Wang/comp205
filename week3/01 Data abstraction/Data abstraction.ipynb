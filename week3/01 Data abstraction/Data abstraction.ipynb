{
 "cells": [
  {
   "cell_type": "markdown",
   "metadata": {},
   "source": [
    "# An important note about course materials\n",
    "\n",
    "As of this week, \n",
    "* There are no separate lecture notes. \n",
    "* Lecture notes are incorporated directly into your workbooks. \n",
    "* This directory contains all student workbooks, listed in the order in which you should complete them.\n",
    "* Thus, you can work entirely in JupyterHub and never go back to Canvas. \n",
    "* This makes it easier to find everything, and will likely continue. \n",
    "* Please relay any concerns to me through Piazza. Thanks! \n",
    "\n",
    "Prof. Couch"
   ]
  },
  {
   "cell_type": "markdown",
   "metadata": {},
   "source": [
    "# A recap of where we are\n",
    "\n",
    "So far, \n",
    "* we know our way around Jupyter Notebooks. \n",
    "     * creating and saving notebooks. \n",
    "     * editing text and programs. \n",
    "     * submitting assignments. \n",
    "* we know how to code basic things in Python/iPython within notebooks.\n",
    "     * assignment\n",
    "     * iteration\n",
    "     * conditionals\n",
    "     * functions\n",
    "* we know the various data structures available in python/iPython: \n",
    "     * lists -- for sequences that can change size.\n",
    "     * tuples -- for things with positional meaning. \n",
    "     * sets -- for sets without duplicates. \n",
    "     * dicts -- for things that are filed by keyword. \n",
    "     * classes -- for data and functions that work together. \n",
    "* and we've been exposed to some deeper concepts in Python and programming in general. \n",
    "     * *encapsulation* -- recording sequences for reuse. \n",
    "     * *preconditions and postconditions* -- how to reuse cells for new tasks. \n",
    "     * *stringification* -- how python allows classes to control how they're printed.\n",
    "\n",
    "So far, however, we've been working at a fairly deep level in the guts of python. The reality is that: \n",
    "* Data scientists function in Python at a *higher level of abstraction*. \n",
    "* Thus, it is necessary to apply the principles above to *software and patterns written by others.* \n",
    "* Survival and effective function thus requires that we adopt a *consumer approach to python programming.*\n",
    "* *Classes rule.* People have written very powerful classes that utilize the mechanisms I've shown you to raise the level of abstraction in how you program. \n",
    "* You will very seldom interact with the primitive data structures we've seen so far. Instead, we'll interact with classes that accomplish tasks more easily. \n",
    "* *These classes require a new and different set of skills.*\n",
    "\n",
    "# Data abstraction\n",
    "\n",
    "*Data abstraction* refers to the practice of encapsulating ideas about data in classes, and using class methods instead of lower-level python code to accomplish tasks. In a data abstraction situation, \n",
    "* Classes are opaque. You should not need to read the code of a class to use it. \n",
    "* Class methods are documented via *preconditions* (also called *prerequisites*) and postconditions (also called *results*).  \n",
    "* Thus, each class enforces a *contract* with you, that if you give it what it needs, it will provide you with what you need. \n",
    "* Classes are not part of python; they are imported. You only need to import a class once per workbook, in a cell before you use it. \n",
    "\n",
    "\n",
    "# What you need to know in order to use a class\n",
    "* (*Installs:* what do you need to install via `pip install`)\n",
    "* *Imports:* what do you need to import? \n",
    "* *Usage:* what are class methods? What do they do? \n",
    "\n",
    "# An example: okpy\n",
    "* Imports: `from client.api.notebook import Notebook`\n",
    "* Installs: `pip install okpy`  (I did this for you in https://jupyterhub.cs.tufts.edu)\n",
    "* Usage: `ok = Notebook('Data Abstraction.ok')` and then: \n",
    "    * `ok.auth({options})`: authenticate a student. \n",
    "    * `ok.grade({assignment})` Grade an assignment\n",
    "    * `ok.submit()` submit the whole notebook for grading. \n",
    "\n",
    "You start using this via: "
   ]
  },
  {
   "cell_type": "code",
   "execution_count": null,
   "metadata": {},
   "outputs": [],
   "source": [
    "# Don't change this cell; just run it. \n",
    "from client.api.notebook import Notebook\n",
    "ok = Notebook('Data Abstraction.ok')\n",
    "ok.auth(inline=True)"
   ]
  },
  {
   "cell_type": "markdown",
   "metadata": {},
   "source": [
    "# How okpy actually works\n",
    "1. I edit a configuration file `Data Abstraction.ok` that tells it how to function. "
   ]
  },
  {
   "cell_type": "code",
   "execution_count": 1,
   "metadata": {},
   "outputs": [],
   "source": [
    "# to see the file, run this cell\n",
    "%pycat 'Data Abstraction.ok'"
   ]
  },
  {
   "cell_type": "markdown",
   "metadata": {},
   "source": [
    "2. I edit tests in the subdirectory `tests`. These have names `question.py` where `question` is the number of the question. \n"
   ]
  }
 ],
 "metadata": {
  "kernelspec": {
   "display_name": "Python 3",
   "language": "python",
   "name": "python3"
  },
  "language_info": {
   "codemirror_mode": {
    "name": "ipython",
    "version": 3
   },
   "file_extension": ".py",
   "mimetype": "text/x-python",
   "name": "python",
   "nbconvert_exporter": "python",
   "pygments_lexer": "ipython3",
   "version": "3.7.3"
  }
 },
 "nbformat": 4,
 "nbformat_minor": 2
}
