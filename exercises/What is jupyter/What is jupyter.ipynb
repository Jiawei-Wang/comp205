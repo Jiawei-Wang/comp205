{
 "cells": [
  {
   "cell_type": "markdown",
   "metadata": {},
   "source": [
    "# A jupyter notebook mixes explanation and computation. \n",
    "* Computation in a kernel language. \n",
    "* Text in markdown format. "
   ]
  },
  {
   "cell_type": "code",
   "execution_count": null,
   "metadata": {},
   "outputs": [],
   "source": [
    "data = [1,4,5,2,3,4,4,7,8,2,2,2,3,1,1,1,2,20,2,2,9,10,1,2,3]\n",
    "sum = 0\n",
    "for i in data:\n",
    "    sum = sum + i\n",
    "print (sum/len(data))"
   ]
  },
  {
   "cell_type": "code",
   "execution_count": null,
   "metadata": {},
   "outputs": [],
   "source": [
    "from pprint import pprint\n",
    "pprint([\"hi\", \"ho\"])"
   ]
  },
  {
   "cell_type": "markdown",
   "metadata": {},
   "source": [
    "# let's try this out in this notebook\n",
    "\n",
    "First, read the [introductory information on Markdown](https://jupyter-notebook.readthedocs.io/en/stable/examples/Notebook/Working%20With%20Markdown%20Cells.html). \n",
    "\n",
    "Then try the following. \n",
    "1. Click on this cell. \n",
    "2. Click on '+' above. \n",
    "3. Change the type of the new cell from `Code` to `Markdown` in the menu above. \n",
    "4. Type your name and a brief bio in Markdown format.\n",
    "5. Click run to see the result. \n"
   ]
  },
  {
   "cell_type": "markdown",
   "metadata": {},
   "source": [
    "# a second trial \n",
    "When you are finished with the above: \n",
    "\n",
    "Read [this simple introduction to python](https://wiki.python.org/moin/BeginnersGuide). Choose the link that is suitable for you. \n",
    "\n",
    "Then, \n",
    "1. Click on this cell. \n",
    "2. Click on `+` above. \n",
    "3. Add code for your name as a python string. Put this into the variable `name`.\n",
    "   (I would write `name = 'Alva Couch'`)\n",
    "4. Run the cell with `Run` above. \n",
    "Then skip to the next heading. "
   ]
  },
  {
   "cell_type": "code",
   "execution_count": null,
   "metadata": {},
   "outputs": [],
   "source": [
    "name = 'Alva Couch'"
   ]
  },
  {
   "cell_type": "markdown",
   "metadata": {},
   "source": [
    "# now let's use that value\n",
    "\n",
    "You created a variable `name` I will use that in a simple program. \n",
    "Run the cell below. "
   ]
  },
  {
   "cell_type": "code",
   "execution_count": null,
   "metadata": {},
   "outputs": [],
   "source": [
    "parts = name.split(' ')\n",
    "for p in parts: \n",
    "    print(p)"
   ]
  },
  {
   "cell_type": "markdown",
   "metadata": {},
   "source": [
    "# what happened? \n",
    "1. `split` splits a string into its parts. \n",
    "2. `split(' ')` splits at spaces. \n",
    "3. The code `parts = name.split(' ')` splits what you typed into words. \n",
    "4. `parts` is a *list*. \n",
    "4. In Python, we use the cliche `for p in parts:` to do something to every element of a list. \n",
    "6. This splits your name into multiple parts and prints them one per line. "
   ]
  },
  {
   "cell_type": "markdown",
   "metadata": {},
   "source": [
    "# some lessons from this experiment\n",
    "1. You can set a variable in one cell and then use it in another. \n",
    "2. Cells can change the format of a value, e.g., from string to list. \n",
    "3. To process every element of a list, use the `for p in parts:` pattern. "
   ]
  },
  {
   "cell_type": "code",
   "execution_count": null,
   "metadata": {},
   "outputs": [],
   "source": []
  }
 ],
 "metadata": {
  "kernelspec": {
   "display_name": "Python 3",
   "language": "python",
   "name": "python3"
  },
  "language_info": {
   "codemirror_mode": {
    "name": "ipython",
    "version": 3
   },
   "file_extension": ".py",
   "mimetype": "text/x-python",
   "name": "python",
   "nbconvert_exporter": "python",
   "pygments_lexer": "ipython3",
   "version": "3.7.0"
  }
 },
 "nbformat": 4,
 "nbformat_minor": 2
}
