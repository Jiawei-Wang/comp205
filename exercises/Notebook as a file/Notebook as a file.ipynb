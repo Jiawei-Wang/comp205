{
 "cells": [
  {
   "cell_type": "markdown",
   "metadata": {},
   "source": [
    "# A notebook as a file\n",
    "\n",
    "One of the primary functions of Jupyter is information exchange. Each notebook is stored in a file that can be emailed to others, and then edited and emailed back. Let's explore the properties of this file.\n",
    "The cell below contains a python fragment and its execution results. \n",
    "1. Change the text in `In [1]` to \"This was a test\"; *do not run the cell.* \n",
    "2. Save this file using `File > Download as > Notebook (.ipynb)`\n",
    "3. Change the name of that file. \n",
    "4. Use `File > Open...` to get to the upload menu and upload the file. "
   ]
  },
  {
   "cell_type": "code",
   "execution_count": 1,
   "metadata": {
    "scrolled": true
   },
   "outputs": [
    {
     "data": {
      "text/plain": [
       "'This is a test'"
      ]
     },
     "execution_count": 1,
     "metadata": {},
     "output_type": "execute_result"
    }
   ],
   "source": [
    "\"This is a test\""
   ]
  },
  {
   "cell_type": "markdown",
   "metadata": {},
   "source": [
    "1. Is the output the same as before? \n",
    "2. Is the "
   ]
  }
 ],
 "metadata": {
  "kernelspec": {
   "display_name": "Python 3",
   "language": "python",
   "name": "python3"
  },
  "language_info": {
   "codemirror_mode": {
    "name": "ipython",
    "version": 3
   },
   "file_extension": ".py",
   "mimetype": "text/x-python",
   "name": "python",
   "nbconvert_exporter": "python",
   "pygments_lexer": "ipython3",
   "version": "3.7.0"
  }
 },
 "nbformat": 4,
 "nbformat_minor": 2
}
