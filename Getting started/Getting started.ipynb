{
 "cells": [
  {
   "cell_type": "markdown",
   "metadata": {},
   "source": [
    "# getting started with jupyter\n",
    "\n",
    "Welcome to COMP 205: Principles of Data Science in Python. \n",
    "\n",
    "If you can see this page, you have successfully installed or accessed Jupyter notebooks. There are a few steps that you need to take in order to participate in this course. This will lead you through them. \n",
    "\n",
    "First, you need to run the following cell, to install the software this course uses on your computer. To do this, press the run button to the right of the cell once. You only need to run this cell once. You do not need to run this (and it will print an error) if you are viewing this page on my servers (http://comp205.eecs.tufts.edu). If you manage to do that, don't worry, it won't do anything harmful.  "
   ]
  },
  {
   "cell_type": "code",
   "execution_count": 1,
   "metadata": {},
   "outputs": [
    {
     "name": "stdout",
     "output_type": "stream",
     "text": [
      "Requirement already satisfied: datascience in c:\\users\\couch\\appdata\\local\\continuum\\anaconda3\\lib\\site-packages (0.10.6)\n",
      "Requirement already satisfied: coveralls==0.5 in c:\\users\\couch\\appdata\\local\\continuum\\anaconda3\\lib\\site-packages (from datascience) (0.5)\n",
      "Requirement already satisfied: sphinx in c:\\users\\couch\\appdata\\local\\continuum\\anaconda3\\lib\\site-packages (from datascience) (1.7.9)\n",
      "Requirement already satisfied: setuptools in c:\\users\\couch\\appdata\\local\\continuum\\anaconda3\\lib\\site-packages (from datascience) (40.2.0)\n",
      "Requirement already satisfied: pytest in c:\\users\\couch\\appdata\\local\\continuum\\anaconda3\\lib\\site-packages (from datascience) (3.8.0)\n",
      "Requirement already satisfied: coverage==3.7.1 in c:\\users\\couch\\appdata\\local\\continuum\\anaconda3\\lib\\site-packages (from datascience) (3.7.1)\n",
      "Requirement already satisfied: folium==0.2.1 in c:\\users\\couch\\appdata\\local\\continuum\\anaconda3\\lib\\site-packages (from datascience) (0.2.1)\n",
      "Requirement already satisfied: PyYAML>=3.10 in c:\\users\\couch\\appdata\\local\\continuum\\anaconda3\\lib\\site-packages (from coveralls==0.5->datascience) (3.13)\n",
      "Requirement already satisfied: docopt>=0.6.1 in c:\\users\\couch\\appdata\\local\\continuum\\anaconda3\\lib\\site-packages (from coveralls==0.5->datascience) (0.6.2)\n",
      "Requirement already satisfied: requests>=1.0.0 in c:\\users\\couch\\appdata\\local\\continuum\\anaconda3\\lib\\site-packages (from coveralls==0.5->datascience) (2.12.4)\n",
      "Requirement already satisfied: six>=1.5 in c:\\users\\couch\\appdata\\local\\continuum\\anaconda3\\lib\\site-packages (from sphinx->datascience) (1.11.0)\n",
      "Requirement already satisfied: Jinja2>=2.3 in c:\\users\\couch\\appdata\\local\\continuum\\anaconda3\\lib\\site-packages (from sphinx->datascience) (2.10)\n",
      "Requirement already satisfied: Pygments>=2.0 in c:\\users\\couch\\appdata\\local\\continuum\\anaconda3\\lib\\site-packages (from sphinx->datascience) (2.2.0)\n",
      "Requirement already satisfied: docutils>=0.11 in c:\\users\\couch\\appdata\\local\\continuum\\anaconda3\\lib\\site-packages (from sphinx->datascience) (0.14)\n",
      "Requirement already satisfied: snowballstemmer>=1.1 in c:\\users\\couch\\appdata\\local\\continuum\\anaconda3\\lib\\site-packages (from sphinx->datascience) (1.2.1)\n",
      "Requirement already satisfied: babel!=2.0,>=1.3 in c:\\users\\couch\\appdata\\local\\continuum\\anaconda3\\lib\\site-packages (from sphinx->datascience) (2.6.0)\n",
      "Requirement already satisfied: alabaster<0.8,>=0.7 in c:\\users\\couch\\appdata\\local\\continuum\\anaconda3\\lib\\site-packages (from sphinx->datascience) (0.7.11)\n",
      "Requirement already satisfied: imagesize in c:\\users\\couch\\appdata\\local\\continuum\\anaconda3\\lib\\site-packages (from sphinx->datascience) (1.1.0)\n",
      "Requirement already satisfied: packaging in c:\\users\\couch\\appdata\\local\\continuum\\anaconda3\\lib\\site-packages (from sphinx->datascience) (17.1)\n",
      "Requirement already satisfied: sphinxcontrib-websupport in c:\\users\\couch\\appdata\\local\\continuum\\anaconda3\\lib\\site-packages (from sphinx->datascience) (1.1.0)\n",
      "Requirement already satisfied: colorama>=0.3.5 in c:\\users\\couch\\appdata\\local\\continuum\\anaconda3\\lib\\site-packages (from sphinx->datascience) (0.3.9)\n",
      "Requirement already satisfied: py>=1.5.0 in c:\\users\\couch\\appdata\\local\\continuum\\anaconda3\\lib\\site-packages (from pytest->datascience) (1.6.0)\n",
      "Requirement already satisfied: attrs>=17.4.0 in c:\\users\\couch\\appdata\\local\\continuum\\anaconda3\\lib\\site-packages (from pytest->datascience) (18.2.0)\n",
      "Requirement already satisfied: more-itertools>=4.0.0 in c:\\users\\couch\\appdata\\local\\continuum\\anaconda3\\lib\\site-packages (from pytest->datascience) (4.3.0)\n",
      "Requirement already satisfied: atomicwrites>=1.0 in c:\\users\\couch\\appdata\\local\\continuum\\anaconda3\\lib\\site-packages (from pytest->datascience) (1.2.1)\n",
      "Requirement already satisfied: pluggy>=0.7 in c:\\users\\couch\\appdata\\local\\continuum\\anaconda3\\lib\\site-packages (from pytest->datascience) (0.7.1)\n",
      "Requirement already satisfied: MarkupSafe>=0.23 in c:\\users\\couch\\appdata\\local\\continuum\\anaconda3\\lib\\site-packages (from Jinja2>=2.3->sphinx->datascience) (1.0)\n",
      "Requirement already satisfied: pytz>=0a in c:\\users\\couch\\appdata\\local\\continuum\\anaconda3\\lib\\site-packages (from babel!=2.0,>=1.3->sphinx->datascience) (2018.5)\n",
      "Requirement already satisfied: pyparsing>=2.0.2 in c:\\users\\couch\\appdata\\local\\continuum\\anaconda3\\lib\\site-packages (from packaging->sphinx->datascience) (2.2.0)\n",
      "Requirement already satisfied: okpy in c:\\users\\couch\\appdata\\local\\continuum\\anaconda3\\lib\\site-packages (1.14.15)\n",
      "Requirement already satisfied: coverage==3.7.1 in c:\\users\\couch\\appdata\\local\\continuum\\anaconda3\\lib\\site-packages (from okpy) (3.7.1)\n",
      "Requirement already satisfied: requests==2.12.4 in c:\\users\\couch\\appdata\\local\\continuum\\anaconda3\\lib\\site-packages (from okpy) (2.12.4)\n"
     ]
    }
   ],
   "source": [
    "!pip install datascience\n",
    "!pip install okpy"
   ]
  },
  {
   "cell_type": "markdown",
   "metadata": {},
   "source": [
    "# getting familiar with Jupyter notebooks\n",
    "\n",
    "The cell you are reading is a \"Markdown cell\". This contains text in a format like that of a word processor. The source for this is a simple language called \"Markdown\". It is written in text form, and is formatted by Jupyter notebooks into HTML that your browser can display. To see the source code for this message, double-click on this cell. "
   ]
  },
  {
   "cell_type": "markdown",
   "metadata": {},
   "source": [
    "# the Markdown language\n",
    "A lot of data science requires writing in English rather than in computer code. In Jupyter Notebooks, this is done using the Markdown language. The language is fairly simple: \n",
    "\n",
    "```\n",
    "# starts a heading\n",
    "## starts a subheading\n",
    "* starts a bulleted list. \n",
    "1. (or any number) starts a numbered list. \n",
    "```\n",
    "\n",
    "The above is typeset as follows: \n",
    "# starts a heading\n",
    "## starts a subheading\n",
    "* starts a bulleted list\n",
    "1. (or any number) starts a numbered list. \n",
    "\n",
    "For more details on markdown, please read [the Markdown documentation](https://jupyter-notebook.readthedocs.io/en/stable/examples/Notebook/Working%20With%20Markdown%20Cells.html). \n",
    "\n",
    "Meahwhile, I will typeset the rest of the course instructions in Markdown and you can double-click to see how I did it. Just click \"Run\" to have them appear normally again. "
   ]
  },
  {
   "cell_type": "markdown",
   "metadata": {},
   "source": [
    "# general structure of this course\n",
    "\n",
    "This course is expressed as a series of Jupyter notebooks illustrating basic concepts and testing your understanding. These pages have supporting files and each page is in its own directory. You can download the zipfiles for each page from our Canvas site. Several mini-lectures illustrate concepts interactively, but the \"textbook\" for the course is these pages and you need to know how to access them. \n",
    "\n",
    "Each notebook has supporting files, so you need to put each notebook and its files into a separate directory/folder. If you unzip two notebooks to the same directory, neither will run properly. No pernament harm has been done, just unzip to a separate directory next time. \n",
    "\n",
    "The wonderful thing about a Jupyter notebook is that one can write a \"live\" set of course notes that interacts with you. I'll ask you to try specific things out periodically, and ask you questions to test your understanding. Thus, reading is an interactive -- rather than a passive -- experience. \n",
    "\n",
    "You are free to add cells to these notebooks yourself in order to take your own personal notes on the experience. Thus, you personalize the experience and put things into your own words. \n",
    "\n",
    "Each notebook will also link to external reading that you need to do in order to complete each exercise."
   ]
  },
  {
   "cell_type": "markdown",
   "metadata": {},
   "source": [
    "# how to work on assignments\n",
    "The course materials are designed so that you can work on them in several modes: \n",
    "\n",
    "1. With your own copy of Jupyter notebooks, installed as the anaconda3 package on a windows, mac, or linux computer. This is by far the most convenient option. \n",
    "2. On a special server reserved for this course: https://comp205.eecs.tufts.edu . This givs you the ability to work from less powerful devices, including chromebooks, and from machines where you don't have the privilege to install software, e.g., on your work computers. \n",
    "\n",
    "You are free to switch back and forth between these modes. To switch, you need to move the whole notebook directory (not just the .ipynb file) to the other environment. \n",
    "\n",
    "Meanwhile, if you are reading this from the comp205 environment and want to set up your own environment, please [click here for instructions](https://docs.anaconda.com/anaconda/install/)"
   ]
  },
  {
   "cell_type": "markdown",
   "metadata": {},
   "source": [
    "# using comp205.eecs.tufts edu\n",
    "Access to https://comp205.eecs.tufts.edu is controlled via the Halligan hall computer accounts system, which is independent from but coupled with the Tufts university accounts system. The typical student in this course will receive a Universal Tufts Login Name (UTLN) before the course starts, which will be the same login name you have on our systems. To enable your account on our systems, you must use a web page based upon your Tufts account: https://www.eecs.tufts.edu/~accounts . Please click on this link and enable your eecs.tufts.edu account by specifying a *different* password than for your Tufts email. "
   ]
  },
  {
   "cell_type": "markdown",
   "metadata": {},
   "source": [
    "# anaconda\n",
    "This course is based upon the anaconda library for data science and machine learning. This is a set of software that one can call from a Jupyter cell To use it, you need to install it in on your own machine. If you cannot do so, because you do not own the machine, or the machine has too small a disk, or it is an unsupported machine (e.g., a chromebook or even a raspberry pi!) or installation is prohibited by company policy, then feel free to use our https://comp205.eecs.tufts.edu environment instead. \n",
    "\n",
    "When you are installing anaconda, make sure to install the Python 3 version rather than Python 2. All exercises in this course are written in Python 3. \n",
    "\n",
    "There are two additions that we will call upon in the exercises that are not part of anaconda:\n",
    "* `okpy`: an interactive grading program that allows you to check your understanding of a concept in real time. \n",
    "* `datascience`: a set of user-friendly data science routines based upon anaconda. \n",
    "You installed these above in the first compute cell. "
   ]
  },
  {
   "cell_type": "markdown",
   "metadata": {},
   "source": [
    "# Python 3 versus Python 2 versus iPython\n",
    "In this course, we will work in iPython, which is short for \"interactive Python\". This is a version suitable for use in Jupyter notebooks cells. Our particular iPython interpreter understands Python 3 syntax. Python 2 -- an older version of Python -- is still in active use but we will not use it in this course. The differences are subtle, and beyond the scope of this course. \n",
    "\n",
    "Language in the Jupyter notebooks documentation can be confusing so an initial note on nomenclature might help. You will often find that the word *kernel* is used to describe an interactive language (such as iPython) that is interpreted in a Notebook. There are several \"kernels\", including Python 3, Python 2, R, Matlab, etc. In this course, we will be using the iPython kernel based upon Python 3. Thus: \n",
    "* The word *kernel* refers to the language a notebook is interpreting. \n",
    "* The *iPython kernel* supports either Python 3 or 2. \n",
    "* We are using the Python 3 version. \n",
    "\n",
    "Hopefully this note will make the documentation easier to read. "
   ]
  },
  {
   "cell_type": "markdown",
   "metadata": {},
   "source": [
    "# Logging into okpy\n",
    "\n",
    "The code below will log you into okpy for the first time. \n",
    "\n",
    "It will direct you to the okpy.org site for your secret key, which you must type into the notebook cell that appears. "
   ]
  },
  {
   "cell_type": "code",
   "execution_count": 3,
   "metadata": {},
   "outputs": [
    {
     "name": "stdout",
     "output_type": "stream",
     "text": [
      "=====================================================================\n",
      "Assignment: Getting started\n",
      "OK, version v1.14.15\n",
      "=====================================================================\n",
      "\n",
      "Successfully logged in as alva.couch@gmail.com\n"
     ]
    }
   ],
   "source": [
    "# Don't change this cell; just run it. \n",
    "from client.api.notebook import Notebook\n",
    "ok = Notebook('Getting started.ok')\n",
    "ok.auth(inline=True, force=True)"
   ]
  },
  {
   "cell_type": "markdown",
   "metadata": {},
   "source": [
    "# If you've already logged in from this instance of Jupyter\n",
    "\n",
    "Then you don't need the \"force\" option, and you can instead run this cell. "
   ]
  },
  {
   "cell_type": "code",
   "execution_count": 7,
   "metadata": {},
   "outputs": [
    {
     "name": "stdout",
     "output_type": "stream",
     "text": [
      "=====================================================================\n",
      "Assignment: Getting started\n",
      "OK, version v1.14.15\n",
      "=====================================================================\n",
      "\n",
      "Successfully logged in as alva.couch@gmail.com\n"
     ]
    }
   ],
   "source": [
    "# Don't change this cell; just run it. \n",
    "from client.api.notebook import Notebook\n",
    "ok = Notebook('Getting started.ok')\n",
    "ok.auth(inline=True)"
   ]
  },
  {
   "cell_type": "markdown",
   "metadata": {},
   "source": [
    "# how to use OK\n",
    "\n",
    "### Periodically, I'll embed a cell into the notebook that tells you whether you are correct. \n",
    "\n",
    "Run it to figure out whether your answer is reasonable. \n",
    "\n",
    "For example, write the code that sets the variable x to 'hello' in the cell below. "
   ]
  },
  {
   "cell_type": "code",
   "execution_count": 4,
   "metadata": {},
   "outputs": [],
   "source": [
    "x = 'hello'"
   ]
  },
  {
   "cell_type": "markdown",
   "metadata": {},
   "source": [
    "### now run the cell below to figure out whether it's correct or not. "
   ]
  },
  {
   "cell_type": "code",
   "execution_count": 5,
   "metadata": {},
   "outputs": [
    {
     "name": "stdout",
     "output_type": "stream",
     "text": [
      "~~~~~~~~~~~~~~~~~~~~~~~~~~~~~~~~~~~~~~~~~~~~~~~~~~~~~~~~~~~~~~~~~~~~~\n",
      "Running tests\n",
      "\n",
      "---------------------------------------------------------------------\n",
      "Test summary\n",
      "    Passed: 1\n",
      "    Failed: 0\n",
      "[ooooooooook] 100.0% passed\n",
      "\n"
     ]
    }
   ],
   "source": [
    "_ = ok.grade('q1_1')"
   ]
  },
  {
   "cell_type": "markdown",
   "metadata": {},
   "source": [
    "# When you're done with a notebook\n",
    "\n",
    "You can report this to me with the cell below. \n",
    "\n",
    "Running that cell submits a solution to the notebook to me. "
   ]
  },
  {
   "cell_type": "code",
   "execution_count": 6,
   "metadata": {},
   "outputs": [
    {
     "data": {
      "application/javascript": [
       "IPython.notebook.save_checkpoint();"
      ],
      "text/plain": [
       "<IPython.core.display.Javascript object>"
      ]
     },
     "metadata": {},
     "output_type": "display_data"
    },
    {
     "data": {
      "application/javascript": [
       "IPython.notebook.save_notebook();"
      ],
      "text/plain": [
       "<IPython.core.display.Javascript object>"
      ]
     },
     "metadata": {},
     "output_type": "display_data"
    },
    {
     "name": "stdout",
     "output_type": "stream",
     "text": [
      "Saving notebook... Saved 'Getting started.ipynb'.\n",
      "Submit... 100% complete\n",
      "Submission successful for user: alva.couch@gmail.com\n",
      "URL: https://okpy.org/cal/COMP205/su19/gettingstarted/submissions/r8n4Vp\n",
      "\n"
     ]
    }
   ],
   "source": [
    "_ = ok.submit()"
   ]
  }
 ],
 "metadata": {
  "kernelspec": {
   "display_name": "Python 3",
   "language": "python",
   "name": "python3"
  },
  "language_info": {
   "codemirror_mode": {
    "name": "ipython",
    "version": 3
   },
   "file_extension": ".py",
   "mimetype": "text/x-python",
   "name": "python",
   "nbconvert_exporter": "python",
   "pygments_lexer": "ipython3",
   "version": "3.7.0"
  }
 },
 "nbformat": 4,
 "nbformat_minor": 2
}
