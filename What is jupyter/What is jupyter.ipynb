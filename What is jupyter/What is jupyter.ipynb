{
 "cells": [
  {
   "cell_type": "markdown",
   "metadata": {},
   "source": [
    "# A jupyter notebook mixes explanation and computation. \n",
    "* Computation in a kernel language. \n",
    "* Text in markdown format. "
   ]
  },
  {
   "cell_type": "code",
   "execution_count": 2,
   "metadata": {},
   "outputs": [
    {
     "name": "stdout",
     "output_type": "stream",
     "text": [
      "4.04\n"
     ]
    }
   ],
   "source": [
    "data = [1,4,5,2,3,4,4,7,8,2,2,2,3,1,1,1,2,20,2,2,9,10,1,2,3]\n",
    "sum = 0\n",
    "for i in data:\n",
    "    sum = sum + i\n",
    "print (sum/len(data))"
   ]
  },
  {
   "cell_type": "code",
   "execution_count": 3,
   "metadata": {},
   "outputs": [
    {
     "name": "stdout",
     "output_type": "stream",
     "text": [
      "['hi', 'ho']\n"
     ]
    }
   ],
   "source": [
    "from pprint import pprint\n",
    "pprint([\"hi\", \"ho\"])"
   ]
  }
 ],
 "metadata": {
  "kernelspec": {
   "display_name": "Python 3",
   "language": "python",
   "name": "python3"
  },
  "language_info": {
   "codemirror_mode": {
    "name": "ipython",
    "version": 3
   },
   "file_extension": ".py",
   "mimetype": "text/x-python",
   "name": "python",
   "nbconvert_exporter": "python",
   "pygments_lexer": "ipython3",
   "version": "3.7.0"
  }
 },
 "nbformat": 4,
 "nbformat_minor": 2
}
