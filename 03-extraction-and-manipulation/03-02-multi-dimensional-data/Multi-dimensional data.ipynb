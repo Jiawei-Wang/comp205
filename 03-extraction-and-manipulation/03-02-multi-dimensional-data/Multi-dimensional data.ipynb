{
 "cells": [
  {
   "cell_type": "markdown",
   "metadata": {},
   "source": [
    "# Multi-dimensional arrays\n",
    "First, run the following cell and watch the introductory video: "
   ]
  },
  {
   "cell_type": "code",
   "execution_count": 1,
   "metadata": {},
   "outputs": [
    {
     "data": {
      "text/html": [
       "<iframe id=\"kaltura_player\" src=\"https://cdnapisec.kaltura.com/p/1813261/sp/181326100/embedIframeJs/uiconf_id/38997502/partner_id/1813261?iframeembed=true&playerId=kaltura_player&entry_id=1_a4xfr7hl&flashvars[streamerType]=auto&amp;flashvars[localizationCode]=en&amp;flashvars[leadWithHTML5]=true&amp;flashvars[sideBarContainer.plugin]=true&amp;flashvars[sideBarContainer.position]=left&amp;flashvars[sideBarContainer.clickToClose]=true&amp;flashvars[chapters.plugin]=true&amp;flashvars[chapters.layout]=vertical&amp;flashvars[chapters.thumbnailRotator]=false&amp;flashvars[streamSelector.plugin]=true&amp;flashvars[EmbedPlayer.SpinnerTarget]=videoHolder&amp;flashvars[dualScreen.plugin]=true&amp;flashvars[Kaltura.addCrossoriginToIframe]=true&amp;&wid=1_rvpdf13f\" width=\"512\" height=\"288\" allowfullscreen webkitallowfullscreen mozAllowFullScreen allow=\"autoplay *; fullscreen *; encrypted-media *\" frameborder=\"0\" title=\"Kaltura Player\"></iframe>"
      ],
      "text/plain": [
       "<IPython.core.display.HTML object>"
      ]
     },
     "metadata": {},
     "output_type": "display_data"
    }
   ],
   "source": [
    "%%html\n",
    "<iframe id=\"kaltura_player\" src=\"https://cdnapisec.kaltura.com/p/1813261/sp/181326100/embedIframeJs/uiconf_id/38997502/partner_id/1813261?iframeembed=true&playerId=kaltura_player&entry_id=1_a4xfr7hl&flashvars[streamerType]=auto&amp;flashvars[localizationCode]=en&amp;flashvars[leadWithHTML5]=true&amp;flashvars[sideBarContainer.plugin]=true&amp;flashvars[sideBarContainer.position]=left&amp;flashvars[sideBarContainer.clickToClose]=true&amp;flashvars[chapters.plugin]=true&amp;flashvars[chapters.layout]=vertical&amp;flashvars[chapters.thumbnailRotator]=false&amp;flashvars[streamSelector.plugin]=true&amp;flashvars[EmbedPlayer.SpinnerTarget]=videoHolder&amp;flashvars[dualScreen.plugin]=true&amp;flashvars[Kaltura.addCrossoriginToIframe]=true&amp;&wid=1_rvpdf13f\" width=\"512\" height=\"288\" allowfullscreen webkitallowfullscreen mozAllowFullScreen allow=\"autoplay *; fullscreen *; encrypted-media *\" frameborder=\"0\" title=\"Kaltura Player\"></iframe>"
   ]
  },
  {
   "cell_type": "markdown",
   "metadata": {},
   "source": [
    "# Multi-dimensional arrays\n",
    "So far, \n",
    "\n",
    "* We've seen how to work with single columns of data. \n",
    "* But data are often in tables.\n",
    "\n",
    "# Multi-dimensional data \n",
    "\n",
    "Consider"
   ]
  },
  {
   "cell_type": "code",
   "execution_count": null,
   "metadata": {},
   "outputs": [],
   "source": [
    "import numpy as np\n",
    "x = np.array([[1,2,3], [4,5,6], [7,8,9]])\n",
    "x"
   ]
  },
  {
   "cell_type": "markdown",
   "metadata": {},
   "source": [
    "This is a *multi-dimensional array*. \n",
    "To access it, note that: "
   ]
  },
  {
   "cell_type": "code",
   "execution_count": null,
   "metadata": {},
   "outputs": [],
   "source": [
    "print(x[0])\n",
    "print(x[1])\n",
    "print(x[2])\n",
    "print(x.shape)"
   ]
  },
  {
   "cell_type": "markdown",
   "metadata": {},
   "source": [
    "* `x.shape` is the shape of the array: 3x3. \n",
    "* `x[0]` - `x[2]` are the \"rows\". \n",
    "* Obviously `x[i][j]` is the object at row `i`, column `j`. "
   ]
  },
  {
   "cell_type": "code",
   "execution_count": null,
   "metadata": {},
   "outputs": [],
   "source": [
    "x[2][2]"
   ]
  },
  {
   "cell_type": "markdown",
   "metadata": {},
   "source": [
    "You'll be happy to know that the things you are used to for single-dimensional arrays still work, e.g., "
   ]
  },
  {
   "cell_type": "code",
   "execution_count": null,
   "metadata": {},
   "outputs": [],
   "source": [
    "x + 4"
   ]
  },
  {
   "cell_type": "code",
   "execution_count": null,
   "metadata": {},
   "outputs": [],
   "source": [
    "x > 5\n"
   ]
  },
  {
   "cell_type": "code",
   "execution_count": null,
   "metadata": {},
   "outputs": [],
   "source": [
    "x[x>5]"
   ]
  },
  {
   "cell_type": "markdown",
   "metadata": {},
   "source": [
    "Oops. That doesn't do quite what we might want. It *flattened* the array and produced the elements that match. \n",
    "\n",
    "# The concept of an axis\n",
    "Most meaningful operations on multi-dimensional arrays act on rows or columns. We might want to remove some rows or columns, or we might want to filter out all rows matching some criteria.\n",
    "\n",
    "An *axis* is a number or designation that describes the dimension to which to apply an operation. \n",
    "\n",
    "Consider, e.g., \n"
   ]
  },
  {
   "cell_type": "code",
   "execution_count": null,
   "metadata": {},
   "outputs": [],
   "source": [
    "print(\"input = \")\n",
    "print(x)\n",
    "print(\"x.sum(axis=0)={}\".format(x.sum(axis=0)))\n",
    "print(\"x.sum(axis=1)={}\".format(x.sum(axis=1)))"
   ]
  },
  {
   "cell_type": "markdown",
   "metadata": {},
   "source": [
    "* The first parameter of `sum` is `axis` (0,1). \n",
    "* `axis` is 0 --> sum *rows.* \n",
    "* `axis` is 1 --> sum *columns.*"
   ]
  },
  {
   "cell_type": "markdown",
   "metadata": {},
   "source": [
    "# Broadcasting\n",
    "\n",
    "* When Numpy is faced with arrays of the exact same shape, things proceed normally. \n",
    "* when shapes differ, numpy invented -- and many other libraries copied -- the idea of *broadcasting*. \n",
    "* We've already seen this in the single dimensional case, but here it is in the multi-dimensional case. \n",
    "* See [A gentle introduction to broadcasting](https://machinelearningmastery.com/broadcasting-with-numpy-arrays)\n",
    "* This is a bit counter-intuitive: "
   ]
  },
  {
   "cell_type": "code",
   "execution_count": null,
   "metadata": {},
   "outputs": [],
   "source": [
    "a = np.array([[1,2,3],[4,5,6]])\n",
    "b = np.array([10,11,12])\n",
    "a + b"
   ]
  },
  {
   "cell_type": "markdown",
   "metadata": {},
   "source": [
    "Simply stated, computing `a + b` actually replicates `b` to `b'` that is a two-dimensional array with the rows copied. This is identical to: "
   ]
  },
  {
   "cell_type": "code",
   "execution_count": null,
   "metadata": {},
   "outputs": [],
   "source": [
    "a = np.array([[1,2,3], [4,5,6]])\n",
    "c = [10,11,12]\n",
    "d = np.array([c, c])\n",
    "print(\"a=\")\n",
    "print(a)\n",
    "print(\"d=\")\n",
    "print(d)\n",
    "a+d"
   ]
  },
  {
   "cell_type": "markdown",
   "metadata": {},
   "source": [
    "# What is the point of \"broadcasting\"?\n",
    "* Very often we want to repeat a comparison among all rows. \n",
    "* Consider the following really counter-intuitive but very useful pattern."
   ]
  },
  {
   "cell_type": "code",
   "execution_count": null,
   "metadata": {},
   "outputs": [],
   "source": [
    "# convention: -1 means missing\n",
    "data = np.array([[1,2,1],\n",
    "                 [-1,5,2],\n",
    "                 [3,3,-1],\n",
    "                 [1,1,4],\n",
    "                 [2,1,2]])\n",
    "print(\"data is:\")\n",
    "print(data)\n",
    "print(\"data != -1 is:\")\n",
    "print(data != -1)\n",
    "# True means corresponding line has no missing data\n",
    "choices = (data != -1).all(axis=1)\n",
    "print(\"(data != -1).all(axis=1) =\")\n",
    "print(choices)\n",
    "# select lines without missing data. \n",
    "print(\"data[choices] is\")\n",
    "data[choices]"
   ]
  },
  {
   "cell_type": "markdown",
   "metadata": {},
   "source": [
    "In other words, I just selected all rows that don't have missing columns. \n",
    "\n",
    "Let's take this apart carefully. \n",
    "* by convention, data that is missing is represented by `-1`. \n",
    "* Thus there are two rows in which data is missing. \n",
    "* We want to exclude any row with a -1 in it. \n",
    "* We compare every element to -1. \n",
    "* Then we compute the logical and of every *row* (axis=1). This means \n",
    "  to generate summaries for rows, by doing logical and of columns (1). \n",
    "* Then we select all rows (axis=0) for which every test is True. "
   ]
  },
  {
   "cell_type": "markdown",
   "metadata": {},
   "source": [
    "# A compelling example\n",
    "\n",
    "Suppose we want to examine all rows whose elements are more than 1 standard deviation from the mean for the respective columns. Consider this code: "
   ]
  },
  {
   "cell_type": "code",
   "execution_count": null,
   "metadata": {},
   "outputs": [],
   "source": [
    "data = np.array([[12, 42, 12],\n",
    "                 [13,  2, 13],\n",
    "                 [11, 40, 14],\n",
    "                 [14, 44, 11], \n",
    "                 [10, 39, 15],\n",
    "                 [13, 43, 14]])\n",
    "stdev = data.std(axis=0)\n",
    "print(\"stdev = {}\".format(stdev))\n",
    "means = data.mean(axis=0)\n",
    "print(\"means = {}\".format(means))\n",
    "mins = means - stdev\n",
    "print(\"mins = {}\".format(mins))\n",
    "maxs = means + stdev\n",
    "print(\"maxs = {}\".format(maxs))\n",
    "gt_lower = (data > mins).all(axis=1)\n",
    "lt_higher = (data < maxs).all(axis=1)\n",
    "in_bounds = gt_lower & lt_higher\n",
    "outliers = np.invert(in_bounds)\n",
    "print(\"outlier choices are:\")\n",
    "print(outliers)\n",
    "print(\"outlier rows are:\")\n",
    "print(data[outliers])"
   ]
  },
  {
   "cell_type": "markdown",
   "metadata": {},
   "source": [
    "# A really curious logic\n",
    "\n",
    "* What we want is to compute a flag table of rows to choose\n",
    "( `outliers = [False, True, False, True, True, False]`)\n",
    "\n",
    "How we do that: \n",
    "* compute mean and standard deviation. \n",
    "* compute upper and lower bounds for each *column*. \n",
    "* broadcast those tables in comparisons with each *row*. \n",
    "* compute from that whether each row matches. \n",
    "* invert that to get rows that don't match. \n",
    "* select these via `data[selection]` pattern\n",
    "\n",
    "We can do most of this in one line: "
   ]
  },
  {
   "cell_type": "code",
   "execution_count": null,
   "metadata": {},
   "outputs": [],
   "source": [
    "data[np.invert(((data > mins) & (data < maxs)).all(axis=1))]"
   ]
  },
  {
   "cell_type": "markdown",
   "metadata": {},
   "source": [
    "# Aside: functional programming\n",
    "\n",
    "This seemingly curious logic is part of a movement in Computer Science toward what is called *functional programming*. \n",
    "* Express things in terms of functions that transform data. \n",
    "* Avoid the \"for\" loop at all costs. \n",
    "\n",
    "This way of thinking is theoretically desirable: functional programs are: \n",
    "* much easier to debug and correct. \n",
    "* much easier to speed up through parallel computing. \n",
    "\n",
    "In fact, *the use of \"for\" loops makes these things more difficult!* "
   ]
  },
  {
   "cell_type": "markdown",
   "metadata": {},
   "source": [
    "# Patterns for functional data programming\n",
    "* *operations on rows:* broadcasting and parallel selection. \n",
    "* *transposition:* switch rows and columns: operate on columns as rows in order to use row patterns! \n",
    "Consider the following: "
   ]
  },
  {
   "cell_type": "code",
   "execution_count": null,
   "metadata": {},
   "outputs": [],
   "source": [
    "columns = data.transpose()\n",
    "print(columns)\n",
    "# Let's remove column 1, which is now row 1!\n",
    "c2 = columns[[True, False, True]]\n",
    "print(c2)\n",
    "d2 = c2.transpose()\n",
    "d2"
   ]
  },
  {
   "cell_type": "markdown",
   "metadata": {},
   "source": [
    "# What happened? \n",
    "* The pattern data[selections] works on rows. \n",
    "* I wanted to remove a column. \n",
    "\n",
    "so\n",
    "\n",
    "* transpose rows and columns. \n",
    "* remove the new \"row\" (old \"column\")\n",
    "* transpose rows and columns back. \n",
    "\n",
    "Result is removing a column! "
   ]
  },
  {
   "cell_type": "markdown",
   "metadata": {},
   "source": [
    "# Let's put this into practice. \n",
    "A note on the format of these exercises: \n",
    "* This is an exercise in *functional programming.* \n",
    "* Thus, I will ask you to *write functions* to accomplish specific things. \n",
    "* These functions should work on any input I give them, within bounds. \n",
    "* They will be tested on arbitrary test cases.\n",
    "\n",
    "First login to grading:"
   ]
  },
  {
   "cell_type": "code",
   "execution_count": null,
   "metadata": {},
   "outputs": [],
   "source": [
    "# Don't change this cell; just run it. \n",
    "from client.api.notebook import Notebook\n",
    "ok = Notebook('Multi-dimensional data.ok')\n",
    "ok.auth(inline=True)"
   ]
  },
  {
   "cell_type": "markdown",
   "metadata": {},
   "source": [
    "1. **Write a function `clean_rows`** that takes a two-dimensional `array` and deletes the *rows* that contain -1's. Hint: act on the whole array and then collect results for rows with `all(axis=1)`. (-1 is a conventional code for *missing data* in public data corpora.) "
   ]
  },
  {
   "cell_type": "code",
   "execution_count": null,
   "metadata": {},
   "outputs": [],
   "source": [
    "def clean_rows(data): \n",
    "    # Fill in details ...\n",
    "    return ..."
   ]
  },
  {
   "cell_type": "code",
   "execution_count": null,
   "metadata": {},
   "outputs": [],
   "source": [
    "# Test your code on this example.\n",
    "data = np.array([[4, -1, 1], [1, 2, 3], [7, 1, 9], [-1, 2, -1], [2, 4, 6]])\n",
    "print(\"Before:\")\n",
    "print(data)\n",
    "print(\"After:\")\n",
    "print(clean_rows(data))"
   ]
  },
  {
   "cell_type": "code",
   "execution_count": null,
   "metadata": {},
   "outputs": [],
   "source": [
    "_ = ok.grade('q01')  # check that your solution works. "
   ]
  },
  {
   "cell_type": "markdown",
   "metadata": {},
   "source": [
    "2. **Write a function `clean_columns`** that removes all columns containing -1 in any row. Hint: this is the transpose of the first problem. "
   ]
  },
  {
   "cell_type": "code",
   "execution_count": null,
   "metadata": {},
   "outputs": [],
   "source": [
    "def clean_columns(data): \n",
    "    # fill in details ...\n",
    "    return ..."
   ]
  },
  {
   "cell_type": "code",
   "execution_count": null,
   "metadata": {},
   "outputs": [],
   "source": [
    "# Test your code on this example\n",
    "data = np.array([[4, 5, -1, 2], [1, 2, 3, 1],\n",
    "                 [7, -1, 9, 8], [4, 2, 3, 6], [2, 4, 6, 2]])\n",
    "print(\"Before:\")\n",
    "print(data)\n",
    "print(\"After:\")\n",
    "print(clean_columns(data))"
   ]
  },
  {
   "cell_type": "code",
   "execution_count": null,
   "metadata": {},
   "outputs": [],
   "source": [
    "_ = ok.grade('q02')  # check that your solution works. "
   ]
  },
  {
   "cell_type": "markdown",
   "metadata": {},
   "source": [
    "3. **Write a function `masked`** that masks missing data using a masked array.  See this documentation: https://docs.scipy.org/doc/numpy/reference/generated/numpy.ma.masked_where.html"
   ]
  },
  {
   "cell_type": "code",
   "execution_count": null,
   "metadata": {},
   "outputs": [],
   "source": [
    "def masked(data):\n",
    "    # fill in details ...\n",
    "    return ..."
   ]
  },
  {
   "cell_type": "code",
   "execution_count": null,
   "metadata": {},
   "outputs": [],
   "source": [
    "# Test your code on this example\n",
    "data = np.array([[4, 5, -1, 2], [1, 2, 3, 1],\n",
    "                 [7, -1, 9, 8], [4, 2, 3, 6], [2, 4, 6, 2]])\n",
    "print(\"Before:\")\n",
    "print(data)\n",
    "print(\"After:\")\n",
    "print(masked(data))"
   ]
  },
  {
   "cell_type": "code",
   "execution_count": null,
   "metadata": {},
   "outputs": [],
   "source": [
    "_ = ok.grade('q03')  # check that your solution works. "
   ]
  },
  {
   "cell_type": "markdown",
   "metadata": {},
   "source": [
    "4. **Write a function column_averages** that computes the averages of each column, skipping missing data in each column. Read about this here: https://docs.scipy.org/doc/numpy/reference/generated/numpy.mean.html . Use masking to skip missing data."
   ]
  },
  {
   "cell_type": "code",
   "execution_count": null,
   "metadata": {},
   "outputs": [],
   "source": [
    "def column_averages(data):\n",
    "    # fill in details ...\n",
    "    return ..."
   ]
  },
  {
   "cell_type": "code",
   "execution_count": null,
   "metadata": {},
   "outputs": [],
   "source": [
    "data = np.array([[4, 5, -1, 2], [1, 2, 3, 1],\n",
    "                 [6, -1, 9, 8], [4, 2, 3, 6], [2, 4, 6, 2]])\n",
    "print(\"Before:\")\n",
    "print(data)\n",
    "print(\"After:\")\n",
    "print(column_averages(data))"
   ]
  },
  {
   "cell_type": "code",
   "execution_count": null,
   "metadata": {},
   "outputs": [],
   "source": [
    "_ = ok.grade('q04')  # check that your solution works. "
   ]
  },
  {
   "cell_type": "markdown",
   "metadata": {},
   "source": [
    "5. (Advanced) **Write a function `default_missing`** that replaces missing data for a column with the mean of the non-missing data rows for that column. *This won't change the mean!*\n",
    "\n",
    "Hint: my steps in solving this included: \n",
    "\n",
    "   a. Create a masked array using your function `masked`.\n",
    "    \n",
    "   b. Use `mean` to compute the mean of the masked array. Compute the `axis 0 mean` of that masked array. These are the means for the non-missing data. Use `keepdims=1` to allow this to broadcast in the next step. \n",
    "   \n",
    "   c. Use `np.select` to replace the -1s with averages. Read about this here:  https://docs.scipy.org/doc/numpy/reference/generated/numpy.select.html"
   ]
  },
  {
   "cell_type": "code",
   "execution_count": null,
   "metadata": {},
   "outputs": [],
   "source": [
    "def default_missing(data): \n",
    "    # fill in details ... \n",
    "    return ..."
   ]
  },
  {
   "cell_type": "code",
   "execution_count": null,
   "metadata": {},
   "outputs": [],
   "source": [
    "# Test your code on this example\n",
    "data = np.array([[4, 5, -1], [1, 2, 3], [7,-1,9], [-1, 2, -1], [2, 4, 6]])\n",
    "print(\"Before:\")\n",
    "print(data)\n",
    "print(\"After:\")\n",
    "print(default_missing(data))"
   ]
  },
  {
   "cell_type": "code",
   "execution_count": null,
   "metadata": {},
   "outputs": [],
   "source": [
    "_ = ok.grade('q05')  # check that your solution works. "
   ]
  },
  {
   "cell_type": "markdown",
   "metadata": {},
   "source": [
    "# Afterword: I hate the term \"broadcasting\"\n",
    "* It's really *replication.* \n",
    "* But the term has come into common use. \n",
    "* And is adopted by more or less every data analysis tool. \n",
    "* So I'm stuck with it. "
   ]
  },
  {
   "cell_type": "markdown",
   "metadata": {},
   "source": [
    "# When you are done with this notebook, \n",
    "* Save and checkpoint. \n",
    "* Change `ready` to `True` in the cell below. \n",
    "* Run the cell below. "
   ]
  },
  {
   "cell_type": "code",
   "execution_count": null,
   "metadata": {},
   "outputs": [],
   "source": [
    "ready = False  # change to True when ready to submit\n",
    "if not ready: \n",
    "    raise Exception(\"change ready to True when ready to submit\")\n",
    "_ = ok.submit()"
   ]
  }
 ],
 "metadata": {
  "kernelspec": {
   "display_name": "Python 3",
   "language": "python",
   "name": "python3"
  },
  "language_info": {
   "codemirror_mode": {
    "name": "ipython",
    "version": 3
   },
   "file_extension": ".py",
   "mimetype": "text/x-python",
   "name": "python",
   "nbconvert_exporter": "python",
   "pygments_lexer": "ipython3",
   "version": "3.7.0"
  }
 },
 "nbformat": 4,
 "nbformat_minor": 2
}
