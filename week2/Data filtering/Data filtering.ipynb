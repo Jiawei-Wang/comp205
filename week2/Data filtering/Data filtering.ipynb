{
 "cells": [
  {
   "cell_type": "markdown",
   "metadata": {},
   "source": [
    "# Data filtering\n",
    "As a continuation of 'Data wrangling', it is often necessary to filter and transform data before further processing. As a first example, it is often necessary to reject invalid or missing data. "
   ]
  },
  {
   "cell_type": "code",
   "execution_count": 3,
   "metadata": {},
   "outputs": [
    {
     "data": {
      "text/plain": [
       "[6, 12, 6, 12]"
      ]
     },
     "execution_count": 3,
     "metadata": {},
     "output_type": "execute_result"
    }
   ],
   "source": [
    "low = 5\n",
    "high = 15\n",
    "weights = [2, 6, -19, 2, 34, 12, 6, 12]\n",
    "acceptable = []\n",
    "for w in weights:\n",
    "    if w >= low and w <= high:\n",
    "        acceptable.append(w)\n",
    "acceptable"
   ]
  },
  {
   "cell_type": "markdown",
   "metadata": {},
   "source": [
    "Missing data in common data corpora takes several forms. \n",
    "1. negative values denote missing values. \n",
    "2. non-numeric values, e.g., \"N/A\". \n",
    "3. empty strings\n",
    "4. \"null values\" represented in Python as the value `None`\n",
    "For example, consider:"
   ]
  },
  {
   "cell_type": "code",
   "execution_count": 24,
   "metadata": {},
   "outputs": [
    {
     "data": {
      "text/plain": [
       "[12, 15, -1, 'N/A', None, '', 20, 30, 40, 0, 10, 'missing', -30, '1.25', '3e1']"
      ]
     },
     "execution_count": 24,
     "metadata": {},
     "output_type": "execute_result"
    }
   ],
   "source": [
    "weights = [12, 15, -1, \"N/A\", None, \"\", 20, 30,\n",
    "           40, 0, 10, \"missing\", -30, \"1.25\", '3e1']\n",
    "weights"
   ]
  },
  {
   "cell_type": "markdown",
   "metadata": {},
   "source": [
    "Admittedly, this is a facetious worst case: \n",
    "1. Some values are valid. \n",
    "2. Some negative values need to be thrown away. \n",
    "3. Some string values need to be discarded. \n",
    "4. Some string values are numbers in disguise. \n",
    "Before you consider some of these innocent, consider: "
   ]
  },
  {
   "cell_type": "code",
   "execution_count": 6,
   "metadata": {
    "scrolled": true
   },
   "outputs": [
    {
     "ename": "TypeError",
     "evalue": "can only concatenate str (not \"int\") to str",
     "output_type": "error",
     "traceback": [
      "\u001b[1;31m---------------------------------------------------------------------------\u001b[0m",
      "\u001b[1;31mTypeError\u001b[0m                                 Traceback (most recent call last)",
      "\u001b[1;32m<ipython-input-6-4ed87aac88e0>\u001b[0m in \u001b[0;36m<module>\u001b[1;34m()\u001b[0m\n\u001b[0;32m      1\u001b[0m \u001b[0ma\u001b[0m \u001b[1;33m=\u001b[0m \u001b[1;34m\"1.25\"\u001b[0m\u001b[1;33m\u001b[0m\u001b[0m\n\u001b[0;32m      2\u001b[0m \u001b[0mb\u001b[0m \u001b[1;33m=\u001b[0m \u001b[1;36m3\u001b[0m\u001b[1;33m\u001b[0m\u001b[0m\n\u001b[1;32m----> 3\u001b[1;33m \u001b[0ma\u001b[0m \u001b[1;33m+\u001b[0m \u001b[0mb\u001b[0m\u001b[1;33m\u001b[0m\u001b[0m\n\u001b[0m",
      "\u001b[1;31mTypeError\u001b[0m: can only concatenate str (not \"int\") to str"
     ]
    }
   ],
   "source": [
    "a = \"1.25\"\n",
    "b = 3\n",
    "a + b"
   ]
  },
  {
   "cell_type": "markdown",
   "metadata": {},
   "source": [
    "1. **What happened when you ran the box above? What should have happened?** \n",
    "\n",
    "___Your answer:___"
   ]
  },
  {
   "cell_type": "code",
   "execution_count": 15,
   "metadata": {},
   "outputs": [
    {
     "data": {
      "text/plain": [
       "'1.253'"
      ]
     },
     "execution_count": 15,
     "metadata": {},
     "output_type": "execute_result"
    }
   ],
   "source": [
    "a = \"1.25\"\n",
    "b = 3\n",
    "a + str(b)"
   ]
  },
  {
   "cell_type": "markdown",
   "metadata": {},
   "source": [
    "2. **What happened when you ran the box above? What was supposed to happen?** \n",
    "\n",
    "___Your answer:___\n",
    "\n",
    "Rather clearly, we don't want numbers to be strings. What we would like to do is -- in multiple stages -- to clean up the array so that it makes some sense.\n",
    "\n",
    "Let's start by cleaning up the strings. If a string is a number, we convert it to a number. If not, we leave it alone. "
   ]
  },
  {
   "cell_type": "code",
   "execution_count": 25,
   "metadata": {},
   "outputs": [
    {
     "name": "stdout",
     "output_type": "stream",
     "text": [
      "could not convert string to float: 'N/A'\n",
      "float() argument must be a string or a number, not 'NoneType'\n",
      "could not convert string to float: \n",
      "could not convert string to float: 'missing'\n"
     ]
    },
    {
     "data": {
      "text/plain": [
       "[12.0,\n",
       " 15.0,\n",
       " -1.0,\n",
       " 'N/A',\n",
       " None,\n",
       " '',\n",
       " 20.0,\n",
       " 30.0,\n",
       " 40.0,\n",
       " 0.0,\n",
       " 10.0,\n",
       " 'missing',\n",
       " -30.0,\n",
       " 1.25,\n",
       " 30.0]"
      ]
     },
     "execution_count": 25,
     "metadata": {},
     "output_type": "execute_result"
    }
   ],
   "source": [
    "output = []\n",
    "for w in weights:\n",
    "    try:\n",
    "        foo = float(w)\n",
    "        output.append(foo)\n",
    "    except Exception as e:\n",
    "        print(e)\n",
    "        output.append(w)\n",
    "output"
   ]
  },
  {
   "cell_type": "markdown",
   "metadata": {},
   "source": [
    "The `try:...except:` block traps errors from trying to convert a non-number to a number. Some things are still rather errant, though. Strings aren't acceptable.  For reasons that will become clear later, I will replace these with `None`:"
   ]
  },
  {
   "cell_type": "code",
   "execution_count": 26,
   "metadata": {
    "scrolled": true
   },
   "outputs": [
    {
     "name": "stdout",
     "output_type": "stream",
     "text": [
      "could not convert string to float: 'N/A'\n",
      "float() argument must be a string or a number, not 'NoneType'\n",
      "could not convert string to float: \n",
      "could not convert string to float: 'missing'\n"
     ]
    },
    {
     "data": {
      "text/plain": [
       "[12.0,\n",
       " 15.0,\n",
       " -1.0,\n",
       " None,\n",
       " None,\n",
       " None,\n",
       " 20.0,\n",
       " 30.0,\n",
       " 40.0,\n",
       " 0.0,\n",
       " 10.0,\n",
       " None,\n",
       " -30.0,\n",
       " 1.25,\n",
       " 30.0]"
      ]
     },
     "execution_count": 26,
     "metadata": {},
     "output_type": "execute_result"
    }
   ],
   "source": [
    "output = []\n",
    "for w in weights:\n",
    "    try:\n",
    "        foo = float(w)\n",
    "        output.append(foo)\n",
    "    except Exception as e:\n",
    "        print(e)\n",
    "        output.append(None)\n",
    "output"
   ]
  },
  {
   "cell_type": "markdown",
   "metadata": {},
   "source": [
    "We still have some negative numbers, though. We can check for them and convert them to `None` as well: "
   ]
  },
  {
   "cell_type": "code",
   "execution_count": 27,
   "metadata": {},
   "outputs": [
    {
     "name": "stdout",
     "output_type": "stream",
     "text": [
      "could not convert string to float: 'N/A'\n",
      "float() argument must be a string or a number, not 'NoneType'\n",
      "could not convert string to float: \n",
      "could not convert string to float: 'missing'\n"
     ]
    },
    {
     "data": {
      "text/plain": [
       "[12.0,\n",
       " 15.0,\n",
       " None,\n",
       " None,\n",
       " None,\n",
       " None,\n",
       " 20.0,\n",
       " 30.0,\n",
       " 40.0,\n",
       " None,\n",
       " 10.0,\n",
       " None,\n",
       " None,\n",
       " 1.25,\n",
       " 30.0]"
      ]
     },
     "execution_count": 27,
     "metadata": {},
     "output_type": "execute_result"
    }
   ],
   "source": [
    "output = []\n",
    "for w in weights:\n",
    "    try: \n",
    "        foo = float(w)\n",
    "        if foo > 0:\n",
    "            output.append(foo)\n",
    "        else: \n",
    "            output.append(None)\n",
    "    except Exception as e:\n",
    "        print(e)\n",
    "        output.append(None)\n",
    "output"
   ]
  },
  {
   "cell_type": "markdown",
   "metadata": {},
   "source": [
    "Finally, we can filter things so that the `None`s are not included. "
   ]
  },
  {
   "cell_type": "code",
   "execution_count": 28,
   "metadata": {},
   "outputs": [
    {
     "data": {
      "text/plain": [
       "[12.0, 15.0, 20.0, 30.0, 40.0, 10.0, 1.25, 30.0]"
      ]
     },
     "execution_count": 28,
     "metadata": {},
     "output_type": "execute_result"
    }
   ],
   "source": [
    "[x for x in output if x is not None]"
   ]
  },
  {
   "cell_type": "markdown",
   "metadata": {},
   "source": [
    "This is called a \"list comprehension\" and it is precisely equivalent to: "
   ]
  },
  {
   "cell_type": "code",
   "execution_count": 29,
   "metadata": {},
   "outputs": [
    {
     "data": {
      "text/plain": [
       "[12.0, 15.0, 20.0, 30.0, 40.0, 10.0, 1.25, 30.0]"
      ]
     },
     "execution_count": 29,
     "metadata": {},
     "output_type": "execute_result"
    }
   ],
   "source": [
    "filtered = []\n",
    "for x in output:\n",
    "    if x is not None:\n",
    "        filtered.append(x)\n",
    "filtered"
   ]
  },
  {
   "cell_type": "markdown",
   "metadata": {},
   "source": [
    "# But what about multi-dimensional data? \n",
    "\n",
    "For reasons that will become obvious later, I am representing these data as *lists of tuples.* This is how they naturally arise. The tuples are rows in a table, while the list is the sequence of all rows. Consider the following list: "
   ]
  },
  {
   "cell_type": "code",
   "execution_count": 1,
   "metadata": {},
   "outputs": [],
   "source": [
    "data = [('marvin', 'dog', 25, \"1\"),\n",
    "        ('garfield', 'cat', \"N/A\", 8),\n",
    "        ('rosie', 'cat', 14, None),\n",
    "        ('fred', 'dog', 20, \"7\")]"
   ]
  },
  {
   "cell_type": "markdown",
   "metadata": {},
   "source": [
    "The columns are \"name\", \"species\", \"weight\", and \"age\". \n",
    "\n",
    "1. **Write code that cleans this data and appends to a variable output1, where it converts all strings in numeric columns 2-3 (\"weight\" and \"age\") to a number or `None`**. Use the patterns above. You'll have to copy tuples to change them. e.g., \n",
    "`newtuple = tuple(oldtuple[0], oldtuple[1], oldtuple[2], oldtuple[3])`. Your code should work on any `data` in this form. "
   ]
  },
  {
   "cell_type": "code",
   "execution_count": null,
   "metadata": {},
   "outputs": [],
   "source": [
    "output1 = []\n",
    "# fill in details here\n",
    "output1"
   ]
  },
  {
   "cell_type": "markdown",
   "metadata": {},
   "source": [
    "2. **Starting with `output1` from above, write code to omit column 2 (\"weight\") of 0-3 and put into `output2`.** This is a matter of rewriting every tuple. In data science terms, this operation is often called a *projection*. "
   ]
  },
  {
   "cell_type": "code",
   "execution_count": null,
   "metadata": {},
   "outputs": [],
   "source": [
    "output2 = []\n",
    "# fill in details here\n",
    "output2"
   ]
  },
  {
   "cell_type": "markdown",
   "metadata": {},
   "source": [
    "3. **Starting with `output2`, write code to omit any pet under 2 years old.** Put the result into `output3`. If the age is `None`, include the pet. Hint: you have to check whether the age is `None` before you compare it. "
   ]
  },
  {
   "cell_type": "code",
   "execution_count": null,
   "metadata": {},
   "outputs": [],
   "source": [
    "output3 = []\n",
    "# fill in details here\n",
    "output3"
   ]
  },
  {
   "cell_type": "markdown",
   "metadata": {},
   "source": [
    "# When you are done with answering the questions, \n",
    "1. `Save and Checkpoint` this page. \n",
    "2. Run the cells below to submit it. \n"
   ]
  },
  {
   "cell_type": "code",
   "execution_count": null,
   "metadata": {},
   "outputs": [],
   "source": [
    "# Don't change this cell; just run it. \n",
    "from client.api.notebook import Notebook\n",
    "ok = Notebook('Data filtering.ok')\n",
    "ok.auth(inline=True)"
   ]
  },
  {
   "cell_type": "code",
   "execution_count": null,
   "metadata": {},
   "outputs": [],
   "source": [
    "_ = ok.submit()"
   ]
  }
 ],
 "metadata": {
  "kernelspec": {
   "display_name": "Python 3",
   "language": "python",
   "name": "python3"
  },
  "language_info": {
   "codemirror_mode": {
    "name": "ipython",
    "version": 3
   },
   "file_extension": ".py",
   "mimetype": "text/x-python",
   "name": "python",
   "nbconvert_exporter": "python",
   "pygments_lexer": "ipython3",
   "version": "3.7.0"
  }
 },
 "nbformat": 4,
 "nbformat_minor": 2
}
