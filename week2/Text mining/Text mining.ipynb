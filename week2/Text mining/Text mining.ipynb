{
 "cells": [
  {
   "cell_type": "code",
   "execution_count": 5,
   "metadata": {},
   "outputs": [
    {
     "data": {
      "text/plain": [
       "'My airfare was 300.00. My hotel cost 200.00 for one night. My food cost 100.00.'"
      ]
     },
     "execution_count": 5,
     "metadata": {},
     "output_type": "execute_result"
    }
   ],
   "source": [
    "budget = \"My airfare was 300.00. My hotel cost 200.00 for one night. My food cost was 100.00.\"\n",
    "budget"
   ]
  },
  {
   "cell_type": "code",
   "execution_count": 6,
   "metadata": {},
   "outputs": [
    {
     "data": {
      "text/plain": [
       "['My',\n",
       " 'airfare',\n",
       " 'was',\n",
       " '300.00.',\n",
       " 'My',\n",
       " 'hotel',\n",
       " 'cost',\n",
       " '200.00',\n",
       " 'for',\n",
       " 'one',\n",
       " 'night.',\n",
       " 'My',\n",
       " 'food',\n",
       " 'cost',\n",
       " '100.00.']"
      ]
     },
     "execution_count": 6,
     "metadata": {},
     "output_type": "execute_result"
    }
   ],
   "source": [
    "words = budget.split(' ')\n",
    "words"
   ]
  },
  {
   "cell_type": "code",
   "execution_count": 9,
   "metadata": {},
   "outputs": [
    {
     "name": "stdout",
     "output_type": "stream",
     "text": [
      "could not convert string to float: 'My'\n",
      "could not convert string to float: 'airfare'\n",
      "could not convert string to float: 'was'\n",
      "could not convert string to float: '300.00.'\n",
      "could not convert string to float: 'My'\n",
      "could not convert string to float: 'hotel'\n",
      "could not convert string to float: 'cost'\n",
      "could not convert string to float: 'for'\n",
      "could not convert string to float: 'one'\n",
      "could not convert string to float: 'night.'\n",
      "could not convert string to float: 'My'\n",
      "could not convert string to float: 'food'\n",
      "could not convert string to float: 'cost'\n",
      "could not convert string to float: '100.00.'\n"
     ]
    },
    {
     "data": {
      "text/plain": [
       "[200.0]"
      ]
     },
     "execution_count": 9,
     "metadata": {},
     "output_type": "execute_result"
    }
   ],
   "source": [
    "costs = []\n",
    "for w in words: \n",
    "    try: \n",
    "        number = float(w)\n",
    "        costs.append(number)\n",
    "    except Exception as e: \n",
    "        print(e)\n",
    "costs"
   ]
  },
  {
   "cell_type": "code",
   "execution_count": 10,
   "metadata": {
    "scrolled": false
   },
   "outputs": [
    {
     "name": "stdout",
     "output_type": "stream",
     "text": [
      "could not convert string to float: 'My'\n",
      "could not convert string to float: 'airfare'\n",
      "could not convert string to float: 'was'\n",
      "could not convert string to float: 'My'\n",
      "could not convert string to float: 'hotel'\n",
      "could not convert string to float: 'cost'\n",
      "could not convert string to float: 'for'\n",
      "could not convert string to float: 'one'\n",
      "could not convert string to float: 'night'\n",
      "could not convert string to float: 'My'\n",
      "could not convert string to float: 'food'\n",
      "could not convert string to float: 'cost'\n"
     ]
    },
    {
     "data": {
      "text/plain": [
       "[300.0, 200.0, 100.0]"
      ]
     },
     "execution_count": 10,
     "metadata": {},
     "output_type": "execute_result"
    }
   ],
   "source": [
    "costs = []\n",
    "for w in words:\n",
    "    if w.endswith('.'): \n",
    "        w = w[:-1]\n",
    "    try: \n",
    "        number = float(w)\n",
    "        costs.append(number)\n",
    "    except Exception as e: \n",
    "        print(e)\n",
    "costs"
   ]
  },
  {
   "cell_type": "code",
   "execution_count": 11,
   "metadata": {},
   "outputs": [
    {
     "data": {
      "text/plain": [
       "600.0"
      ]
     },
     "execution_count": 11,
     "metadata": {},
     "output_type": "execute_result"
    }
   ],
   "source": [
    "sum = 0\n",
    "for c in costs: \n",
    "    sum += c\n",
    "sum   "
   ]
  }
 ],
 "metadata": {
  "kernelspec": {
   "display_name": "Python 3",
   "language": "python",
   "name": "python3"
  },
  "language_info": {
   "codemirror_mode": {
    "name": "ipython",
    "version": 3
   },
   "file_extension": ".py",
   "mimetype": "text/x-python",
   "name": "python",
   "nbconvert_exporter": "python",
   "pygments_lexer": "ipython3",
   "version": "3.7.0"
  }
 },
 "nbformat": 4,
 "nbformat_minor": 2
}
